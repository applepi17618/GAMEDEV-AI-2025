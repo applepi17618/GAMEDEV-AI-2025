{
 "cells": [
  {
   "cell_type": "code",
   "execution_count": 1,
   "id": "60cbb78b",
   "metadata": {},
   "outputs": [],
   "source": [
    "# Импорт необходимых библиотек.\n",
    "\n",
    "import os\n",
    "from dotenv import load_dotenv\n",
    "import json\n",
    "from pathlib import Path\n",
    "from mistralai import Mistral"
   ]
  },
  {
   "cell_type": "code",
   "execution_count": 2,
   "id": "f3714eb5",
   "metadata": {},
   "outputs": [
    {
     "data": {
      "text/plain": [
       "True"
      ]
     },
     "execution_count": 2,
     "metadata": {},
     "output_type": "execute_result"
    }
   ],
   "source": [
    "load_dotenv()"
   ]
  },
  {
   "cell_type": "code",
   "execution_count": 3,
   "id": "f2d62438",
   "metadata": {},
   "outputs": [
    {
     "name": "stderr",
     "output_type": "stream",
     "text": [
      "<>:3: SyntaxWarning: invalid escape sequence '\\p'\n",
      "<>:3: SyntaxWarning: invalid escape sequence '\\p'\n",
      "C:\\Users\\Пользователь\\AppData\\Local\\Temp\\ipykernel_11564\\3574903587.py:3: SyntaxWarning: invalid escape sequence '\\p'\n",
      "  PROMPT_FILE = 'prompts\\prompt.txt'\n"
     ]
    }
   ],
   "source": [
    "# Конфигурация.\n",
    "\n",
    "PROMPT_FILE = 'prompts\\prompt.txt'\n",
    "MISTRAL_API_KEY = os.getenv('MISTRAL_API_KEY')\n",
    "model = 'mistral-large-latest'"
   ]
  },
  {
   "cell_type": "code",
   "execution_count": 4,
   "id": "b36455d4",
   "metadata": {},
   "outputs": [],
   "source": [
    "# Функция чтения файла с промптом.\n",
    "\n",
    "def read_file(filepath: str):\n",
    "    with open(filepath, 'r', encoding='utf-8') as f:\n",
    "        return f.read().strip()"
   ]
  },
  {
   "cell_type": "code",
   "execution_count": 5,
   "id": "cb04d6d1",
   "metadata": {},
   "outputs": [],
   "source": [
    "# Применение функции, создание промпта.\n",
    "\n",
    "prompt = read_file(PROMPT_FILE)"
   ]
  },
  {
   "cell_type": "code",
   "execution_count": 6,
   "id": "8315575d",
   "metadata": {},
   "outputs": [],
   "source": [
    "#Создание клиента. \n",
    "\n",
    "client = Mistral(api_key=MISTRAL_API_KEY)"
   ]
  },
  {
   "cell_type": "code",
   "execution_count": 7,
   "id": "241afa44",
   "metadata": {},
   "outputs": [],
   "source": [
    "# Функия генерации квеста.\n",
    "\n",
    "def generate_quest(prompt, plot_text):\n",
    "    messages = [\n",
    "        {\n",
    "            'role':'system',\n",
    "            'content' : prompt\n",
    "        },\n",
    "        {\n",
    "            'role' : 'user',\n",
    "            'content' : plot_text\n",
    "        }\n",
    "    ]\n",
    "    response = client.chat.complete(\n",
    "        model=model,\n",
    "       messages=messages,\n",
    "        response_format = {\n",
    "            'type' : 'json_object'\n",
    "        } \n",
    "    )\n",
    "    return response.choices[0].message.content"
   ]
  },
  {
   "cell_type": "code",
   "execution_count": 8,
   "id": "428f350e",
   "metadata": {},
   "outputs": [],
   "source": [
    "# Функция создания JSON файла\n",
    "def save_quest_json(raw_output, output_file):\n",
    "    data = json.loads(raw_output)  # parse string into Python object\n",
    "    output_file = Path(output_file)\n",
    "    output_file.parent.mkdir(parents=True, exist_ok=True)\n",
    "    with open(output_file, \"w\", encoding=\"utf-8\") as f:\n",
    "        json.dump(data, f, ensure_ascii=False, indent=4)\n",
    "    print(f\"✅ {output_file} готов\")"
   ]
  },
  {
   "cell_type": "code",
   "execution_count": null,
   "id": "876e84f6",
   "metadata": {},
   "outputs": [
    {
     "name": "stdout",
     "output_type": "stream",
     "text": [
      "✅ outputs\\quest1.json готов\n",
      "✅ outputs\\quest2.json готов\n",
      "✅ outputs\\quest3.json готов\n"
     ]
    }
   ],
   "source": [
    "#Генерация 3 квестов для образца.\n",
    "prompt_text = Path(\"prompts/prompt.txt\").read_text(encoding=\"utf-8\")\n",
    "plots_dir = Path(\"plots\")\n",
    "\n",
    "for plot_file in plots_dir.glob(\"*.txt\"):\n",
    "    plot_content = plot_file.read_text(encoding=\"utf-8\").strip()\n",
    "    output_path = Path(\"outputs\") / f\"{plot_file.stem}.json\"\n",
    "\n",
    "    raw_output = generate_quest(prompt_text, plot_content)\n",
    "    save_quest_json(raw_output, output_path)"
   ]
  },
  {
   "cell_type": "code",
   "execution_count": 12,
   "id": "dcfb426a",
   "metadata": {},
   "outputs": [
    {
     "name": "stdout",
     "output_type": "stream",
     "text": [
      "✅ outputs\\quest1.json готов\n"
     ]
    }
   ],
   "source": [
    "# Генерация 1 квеста.\n",
    "plot_file_for_a_single_quest = Path('plots/quest1.txt')\n",
    "plot_for_a_single_quest = plot_file_for_a_single_quest.read_text(encoding='utf-8').strip()\n",
    "raw_output_for_a_single_quest = generate_quest(prompt, plot_for_a_single_quest)\n",
    "output_path_for_a_single_quest = Path('outputs') / f'{plot_file_for_a_single_quest.stem}.json'\n",
    "save_quest_json(raw_output_for_a_single_quest, output_path_for_a_single_quest)"
   ]
  }
 ],
 "metadata": {
  "kernelspec": {
   "display_name": "venv",
   "language": "python",
   "name": "python3"
  },
  "language_info": {
   "codemirror_mode": {
    "name": "ipython",
    "version": 3
   },
   "file_extension": ".py",
   "mimetype": "text/x-python",
   "name": "python",
   "nbconvert_exporter": "python",
   "pygments_lexer": "ipython3",
   "version": "3.12.1"
  }
 },
 "nbformat": 4,
 "nbformat_minor": 5
}
